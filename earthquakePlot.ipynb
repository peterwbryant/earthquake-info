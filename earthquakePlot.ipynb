{
 "cells": [
  {
   "cell_type": "code",
   "execution_count": 10,
   "outputs": [],
   "source": [
    "import pandas as pd\n",
    "import math"
   ],
   "metadata": {
    "collapsed": false,
    "pycharm": {
     "name": "#%%\n"
    }
   }
  },
  {
   "cell_type": "markdown",
   "source": [
    "## Get data from usgs.gov"
   ],
   "metadata": {
    "collapsed": false
   }
  },
  {
   "cell_type": "code",
   "execution_count": 3,
   "outputs": [],
   "source": [
    "df = pd.read_csv('https://earthquake.usgs.gov/earthquakes/feed/v1.0/summary/all_month.csv')"
   ],
   "metadata": {
    "collapsed": false,
    "pycharm": {
     "name": "#%%\n"
    }
   }
  },
  {
   "cell_type": "markdown",
   "source": [
    "### Parameters"
   ],
   "metadata": {
    "collapsed": false
   }
  },
  {
   "cell_type": "code",
   "execution_count": 15,
   "outputs": [],
   "source": [
    "# Lindsborg location, lat and long, degrees\n",
    "centerLat = 38.5735\n",
    "centerLong = -97.6745\n",
    "\n",
    "# radians\n",
    "cLat = centerLat * math.pi / 180.0\n",
    "cLong = centerLong * math.pi / 180.0\n",
    "\n",
    "# radius of earth, km\n",
    "rad = 6371.0"
   ],
   "metadata": {
    "collapsed": false,
    "pycharm": {
     "name": "#%%\n"
    }
   }
  },
  {
   "cell_type": "markdown",
   "source": [
    "### Distances\n",
    "\n",
    "This is from sites about great circle distances:\n",
    "- http://edwilliams.org/avform147.htm\n",
    "- https://en.wikipedia.org/wiki/Great-circle_distance"
   ],
   "metadata": {
    "collapsed": false
   }
  },
  {
   "cell_type": "code",
   "execution_count": 26,
   "outputs": [],
   "source": [
    "def gcDist(centerLat, centerLong, ptLat, ptLong):\n",
    "    '''Function to return great circle distance on earth, given center lat and long, point lat and long, all in degrees '''\n",
    "    # go to radians\n",
    "    cLat = centerLat * math.pi / 180.0\n",
    "    cLong = centerLong * math.pi / 180.0\n",
    "    pLat = ptLat * math.pi / 180.0\n",
    "    pLong = ptLong * math.pi / 180.0\n",
    "\n",
    "    # radius of earth, km\n",
    "    rad = 6371.0\n",
    "\n",
    "    # great circle formula\n",
    "    dLambda = cLong - pLong\n",
    "    dPhi = cLat - pLat\n",
    "\n",
    "    drad = 2.0 * math.asin(math.sqrt( math.sin(dPhi/2.0)**2 + (1.0 - math.sin(dPhi/2.0)**2 - (math.sin((cLat+pLat)/2.0)**2) ) * (math.sin(dLambda/2.0)**2)  ) )\n",
    "\n",
    "    # distance\n",
    "    return drad * rad"
   ],
   "metadata": {
    "collapsed": false,
    "pycharm": {
     "name": "#%%\n"
    }
   }
  },
  {
   "cell_type": "code",
   "execution_count": null,
   "outputs": [],
   "source": [],
   "metadata": {
    "collapsed": false,
    "pycharm": {
     "name": "#%%\n"
    }
   }
  }
 ],
 "metadata": {
  "kernelspec": {
   "display_name": "Python 3",
   "language": "python",
   "name": "python3"
  },
  "language_info": {
   "codemirror_mode": {
    "name": "ipython",
    "version": 2
   },
   "file_extension": ".py",
   "mimetype": "text/x-python",
   "name": "python",
   "nbconvert_exporter": "python",
   "pygments_lexer": "ipython2",
   "version": "2.7.6"
  }
 },
 "nbformat": 4,
 "nbformat_minor": 0
}