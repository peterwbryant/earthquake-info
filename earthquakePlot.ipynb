{
 "cells": [
  {
   "cell_type": "code",
   "execution_count": 48,
   "outputs": [],
   "source": [
    "import pandas as pd\n",
    "import numpy as np\n",
    "from datetime import datetime\n",
    "import matplotlib.pyplot as plt\n",
    "import matplotlib.dates as mdates\n",
    "from eqUtils import *"
   ],
   "metadata": {
    "collapsed": false,
    "pycharm": {
     "name": "#%%\n"
    }
   }
  },
  {
   "cell_type": "markdown",
   "source": [
    "## Get data from usgs.gov"
   ],
   "metadata": {
    "collapsed": false
   }
  },
  {
   "cell_type": "code",
   "execution_count": 3,
   "outputs": [],
   "source": [
    "df = pd.read_csv('https://earthquake.usgs.gov/earthquakes/feed/v1.0/summary/all_month.csv')"
   ],
   "metadata": {
    "collapsed": false,
    "pycharm": {
     "name": "#%%\n"
    }
   }
  },
  {
   "cell_type": "markdown",
   "source": [
    "### Parameters"
   ],
   "metadata": {
    "collapsed": false
   }
  },
  {
   "cell_type": "code",
   "execution_count": 30,
   "outputs": [],
   "source": [
    "# Lindsborg location, lat and long, degrees\n",
    "centerLat = 38.5735\n",
    "centerLong = -97.6745\n"
   ],
   "metadata": {
    "collapsed": false,
    "pycharm": {
     "name": "#%%\n"
    }
   }
  },
  {
   "cell_type": "markdown",
   "source": [
    "### Distances\n",
    "\n",
    "This is from sites about great circle distances:\n",
    "- http://edwilliams.org/avform147.htm\n",
    "- https://en.wikipedia.org/wiki/Great-circle_distance"
   ],
   "metadata": {
    "collapsed": false
   }
  },
  {
   "cell_type": "code",
   "execution_count": 26,
   "outputs": [],
   "source": [
    "def gcDist(centerLat, centerLong, ptLat, ptLong):\n",
    "    '''Function to return great circle distance on earth, given center lat and long, point lat and long, all in degrees '''\n",
    "    # go to radians\n",
    "    cLat = centerLat * math.pi / 180.0\n",
    "    cLong = centerLong * math.pi / 180.0\n",
    "    pLat = ptLat * math.pi / 180.0\n",
    "    pLong = ptLong * math.pi / 180.0\n",
    "\n",
    "    # radius of earth, km\n",
    "    rad = 6371.0\n",
    "\n",
    "    # great circle formula\n",
    "    dLambda = cLong - pLong\n",
    "    dPhi = cLat - pLat\n",
    "\n",
    "    drad = 2.0 * math.asin(math.sqrt( math.sin(dPhi/2.0)**2 + (1.0 - math.sin(dPhi/2.0)**2 - (math.sin((cLat+pLat)/2.0)**2) ) * (math.sin(dLambda/2.0)**2)  ) )\n",
    "\n",
    "    # distance\n",
    "    return drad * rad"
   ],
   "metadata": {
    "collapsed": false,
    "pycharm": {
     "name": "#%%\n"
    }
   }
  },
  {
   "cell_type": "code",
   "execution_count": 39,
   "outputs": [],
   "source": [
    "def gcDistpd(centerLat, centerLong, dataFile):\n",
    "    '''Function to return great circle distance on earth, given center lat and long, datafile with point lat and long, all in degrees '''\n",
    "    # go to radians\n",
    "    cLat = np.full(len(dataFile), centerLat * math.pi / 180.0)\n",
    "    cLong = np.full(len(dataFile),centerLong * math.pi / 180.0)\n",
    "    pLat = (dataFile['latitude'] * math.pi / 180.0).to_numpy()\n",
    "    pLong = (dataFile['longitude'] * math.pi / 180.0).to_numpy()\n",
    "\n",
    "    # radius of earth, km\n",
    "    rad = 6371.0\n",
    "\n",
    "    # great circle formula\n",
    "    dLambda = cLong - pLong\n",
    "    dPhi = cLat - pLat\n",
    "\n",
    "    drad = 2.0 * np.arcsin(np.sqrt( np.sin(dPhi/2.0)**2 + (1.0 - np.sin(dPhi/2.0)**2 - (np.sin((cLat+pLat)/2.0)**2) ) * (np.sin(dLambda/2.0)**2)  ) )\n",
    "\n",
    "    # distance\n",
    "    return drad * rad"
   ],
   "metadata": {
    "collapsed": false,
    "pycharm": {
     "name": "#%%\n"
    }
   }
  },
  {
   "cell_type": "markdown",
   "source": [
    "## Filter\n",
    "\n",
    "Get the events within a radius"
   ],
   "metadata": {
    "collapsed": false
   }
  },
  {
   "cell_type": "code",
   "execution_count": 44,
   "outputs": [
    {
     "data": {
      "text/plain": "                          time  latitude  longitude  depth  mag magType  nst  \\\n180   2021-12-15T18:17:48.920Z   38.6595   -97.4981   5.00  3.1   mb_lg  NaN   \n233   2021-12-15T15:03:08.658Z   38.6521   -97.5101   5.00  3.4      ml  NaN   \n284   2021-12-15T09:58:21.667Z   38.6822   -97.4441   3.00  4.0     mwr  NaN   \n405   2021-12-14T22:02:29.520Z   38.6528   -97.4522   5.00  2.5   mb_lg  NaN   \n835   2021-12-12T23:19:37.992Z   38.6546   -97.5039   5.00  2.5   mb_lg  NaN   \n1030  2021-12-12T02:09:24.161Z   38.6752   -97.4871   9.08  3.8   mb_lg  NaN   \n1045  2021-12-12T01:02:18.409Z   38.6813   -97.4928   5.00  2.5   mb_lg  NaN   \n1203  2021-12-11T11:18:30.864Z   38.6839   -97.4978   5.00  2.6   mb_lg  NaN   \n1215  2021-12-11T10:28:20.150Z   38.6948   -97.4933   2.68  3.0   mb_lg  NaN   \n1561  2021-12-10T01:59:05.450Z   38.6432   -97.4330   5.00  2.4   mb_lg  NaN   \n1973  2021-12-08T20:25:42.908Z   38.6832   -97.4868   3.85  3.1   mb_lg  NaN   \n2086  2021-12-08T14:21:49.085Z   38.6661   -97.4763   5.00  2.6   mb_lg  NaN   \n2090  2021-12-08T13:45:28.473Z   38.6552   -97.4462   3.00  4.3     mwr  NaN   \n3409  2021-12-04T10:32:26.246Z   38.7037   -97.5874   5.00  2.5   mb_lg  NaN   \n8424  2021-11-18T14:20:29.570Z   38.6996   -97.5427   1.98  2.9   mb_lg  NaN   \n8585  2021-11-18T01:40:05.572Z   38.6761   -97.4697   5.00  2.6   mb_lg  NaN   \n8640  2021-11-17T21:43:10.335Z   38.6852   -97.5026   5.00  2.9   mb_lg  NaN   \n\n        gap   dmin   rms  ...                   updated  \\\n180    74.0  0.715  0.78  ...  2021-12-16T13:02:21.380Z   \n233    84.0  0.703  0.25  ...  2021-12-15T20:12:16.188Z   \n284    61.0  0.758  0.56  ...  2021-12-16T13:03:22.653Z   \n405   140.0  0.730  0.36  ...  2021-12-15T13:22:46.647Z   \n835   141.0  0.708  0.40  ...  2021-12-13T22:18:34.194Z   \n1030   98.0  0.733  0.57  ...  2021-12-15T10:40:24.123Z   \n1045  143.0  0.735  0.40  ...  2021-12-12T02:29:20.150Z   \n1203  144.0  0.735  0.51  ...  2021-12-11T15:01:44.815Z   \n1215  145.0  0.746  0.24  ...  2021-12-11T12:36:37.162Z   \n1561  138.0  0.731  0.65  ...  2021-12-10T07:47:36.065Z   \n1973  143.0  0.739  0.17  ...  2021-12-15T19:49:08.373Z   \n2086   99.0  0.730  0.52  ...  2021-12-10T10:59:43.040Z   \n2090   68.0  0.735  0.46  ...  2021-12-15T15:53:36.055Z   \n3409  148.0  0.717  0.33  ...  2021-12-04T11:11:31.040Z   \n8424  146.0  0.730  0.26  ...  2021-12-12T17:43:42.318Z   \n8585   99.0  0.741  0.68  ...  2021-11-19T02:18:10.040Z   \n8640  141.0  0.734  0.45  ...  2021-12-08T18:15:01.187Z   \n\n                            place        type horizontalError depthError  \\\n180     7 km SW of Gypsum, Kansas  earthquake             3.8        2.0   \n233   8 km ESE of Assaria, Kansas  earthquake             2.7        1.9   \n284    2 km SSW of Gypsum, Kansas  earthquake             2.6        1.9   \n405    6 km SSW of Gypsum, Kansas  earthquake             1.8        2.0   \n835     8 km SW of Gypsum, Kansas  earthquake             2.9        1.9   \n1030   6 km WSW of Gypsum, Kansas  earthquake             3.5        7.1   \n1045   6 km WSW of Gypsum, Kansas  earthquake             2.2        2.0   \n1203   6 km WSW of Gypsum, Kansas  earthquake             2.4        2.0   \n1215   5 km WSW of Gypsum, Kansas  earthquake             3.1        8.1   \n1561     6 km S of Gypsum, Kansas  earthquake             2.1        2.0   \n1973   5 km WSW of Gypsum, Kansas  earthquake             2.2        6.5   \n2086    6 km SW of Gypsum, Kansas  earthquake             1.6        2.0   \n2090   5 km SSW of Gypsum, Kansas  earthquake             2.5        1.9   \n3409  2 km NNE of Assaria, Kansas  earthquake             1.4        1.9   \n8424  5 km ENE of Assaria, Kansas  earthquake             2.6        5.5   \n8585    4 km SW of Gypsum, Kansas  earthquake             1.5        2.0   \n8640   6 km WSW of Gypsum, Kansas  earthquake             2.6        2.0   \n\n      magError  magNst    status  locationSource magSource  \n180      0.051   101.0  reviewed              us        us  \n233      0.148     6.0  reviewed              us        us  \n284      0.041    56.0  reviewed              us        us  \n405      0.147    12.0  reviewed              us        us  \n835      0.109    22.0  reviewed              us        us  \n1030     0.039   170.0  reviewed              us        us  \n1045     0.132    15.0  reviewed              us        us  \n1203     0.361     2.0  reviewed              us        us  \n1215     0.132    18.0  reviewed              us        us  \n1561     0.136    14.0  reviewed              us        us  \n1973     0.061    69.0  reviewed              us        us  \n2086     0.132    15.0  reviewed              us        us  \n2090     0.048    42.0  reviewed              us        us  \n3409     0.208     6.0  reviewed              us        us  \n8424     0.056    82.0  reviewed              us        us  \n8585     0.096    28.0  reviewed              us        us  \n8640     0.056    82.0  reviewed              us        us  \n\n[17 rows x 22 columns]",
      "text/html": "<div>\n<style scoped>\n    .dataframe tbody tr th:only-of-type {\n        vertical-align: middle;\n    }\n\n    .dataframe tbody tr th {\n        vertical-align: top;\n    }\n\n    .dataframe thead th {\n        text-align: right;\n    }\n</style>\n<table border=\"1\" class=\"dataframe\">\n  <thead>\n    <tr style=\"text-align: right;\">\n      <th></th>\n      <th>time</th>\n      <th>latitude</th>\n      <th>longitude</th>\n      <th>depth</th>\n      <th>mag</th>\n      <th>magType</th>\n      <th>nst</th>\n      <th>gap</th>\n      <th>dmin</th>\n      <th>rms</th>\n      <th>...</th>\n      <th>updated</th>\n      <th>place</th>\n      <th>type</th>\n      <th>horizontalError</th>\n      <th>depthError</th>\n      <th>magError</th>\n      <th>magNst</th>\n      <th>status</th>\n      <th>locationSource</th>\n      <th>magSource</th>\n    </tr>\n  </thead>\n  <tbody>\n    <tr>\n      <th>180</th>\n      <td>2021-12-15T18:17:48.920Z</td>\n      <td>38.6595</td>\n      <td>-97.4981</td>\n      <td>5.00</td>\n      <td>3.1</td>\n      <td>mb_lg</td>\n      <td>NaN</td>\n      <td>74.0</td>\n      <td>0.715</td>\n      <td>0.78</td>\n      <td>...</td>\n      <td>2021-12-16T13:02:21.380Z</td>\n      <td>7 km SW of Gypsum, Kansas</td>\n      <td>earthquake</td>\n      <td>3.8</td>\n      <td>2.0</td>\n      <td>0.051</td>\n      <td>101.0</td>\n      <td>reviewed</td>\n      <td>us</td>\n      <td>us</td>\n    </tr>\n    <tr>\n      <th>233</th>\n      <td>2021-12-15T15:03:08.658Z</td>\n      <td>38.6521</td>\n      <td>-97.5101</td>\n      <td>5.00</td>\n      <td>3.4</td>\n      <td>ml</td>\n      <td>NaN</td>\n      <td>84.0</td>\n      <td>0.703</td>\n      <td>0.25</td>\n      <td>...</td>\n      <td>2021-12-15T20:12:16.188Z</td>\n      <td>8 km ESE of Assaria, Kansas</td>\n      <td>earthquake</td>\n      <td>2.7</td>\n      <td>1.9</td>\n      <td>0.148</td>\n      <td>6.0</td>\n      <td>reviewed</td>\n      <td>us</td>\n      <td>us</td>\n    </tr>\n    <tr>\n      <th>284</th>\n      <td>2021-12-15T09:58:21.667Z</td>\n      <td>38.6822</td>\n      <td>-97.4441</td>\n      <td>3.00</td>\n      <td>4.0</td>\n      <td>mwr</td>\n      <td>NaN</td>\n      <td>61.0</td>\n      <td>0.758</td>\n      <td>0.56</td>\n      <td>...</td>\n      <td>2021-12-16T13:03:22.653Z</td>\n      <td>2 km SSW of Gypsum, Kansas</td>\n      <td>earthquake</td>\n      <td>2.6</td>\n      <td>1.9</td>\n      <td>0.041</td>\n      <td>56.0</td>\n      <td>reviewed</td>\n      <td>us</td>\n      <td>us</td>\n    </tr>\n    <tr>\n      <th>405</th>\n      <td>2021-12-14T22:02:29.520Z</td>\n      <td>38.6528</td>\n      <td>-97.4522</td>\n      <td>5.00</td>\n      <td>2.5</td>\n      <td>mb_lg</td>\n      <td>NaN</td>\n      <td>140.0</td>\n      <td>0.730</td>\n      <td>0.36</td>\n      <td>...</td>\n      <td>2021-12-15T13:22:46.647Z</td>\n      <td>6 km SSW of Gypsum, Kansas</td>\n      <td>earthquake</td>\n      <td>1.8</td>\n      <td>2.0</td>\n      <td>0.147</td>\n      <td>12.0</td>\n      <td>reviewed</td>\n      <td>us</td>\n      <td>us</td>\n    </tr>\n    <tr>\n      <th>835</th>\n      <td>2021-12-12T23:19:37.992Z</td>\n      <td>38.6546</td>\n      <td>-97.5039</td>\n      <td>5.00</td>\n      <td>2.5</td>\n      <td>mb_lg</td>\n      <td>NaN</td>\n      <td>141.0</td>\n      <td>0.708</td>\n      <td>0.40</td>\n      <td>...</td>\n      <td>2021-12-13T22:18:34.194Z</td>\n      <td>8 km SW of Gypsum, Kansas</td>\n      <td>earthquake</td>\n      <td>2.9</td>\n      <td>1.9</td>\n      <td>0.109</td>\n      <td>22.0</td>\n      <td>reviewed</td>\n      <td>us</td>\n      <td>us</td>\n    </tr>\n    <tr>\n      <th>1030</th>\n      <td>2021-12-12T02:09:24.161Z</td>\n      <td>38.6752</td>\n      <td>-97.4871</td>\n      <td>9.08</td>\n      <td>3.8</td>\n      <td>mb_lg</td>\n      <td>NaN</td>\n      <td>98.0</td>\n      <td>0.733</td>\n      <td>0.57</td>\n      <td>...</td>\n      <td>2021-12-15T10:40:24.123Z</td>\n      <td>6 km WSW of Gypsum, Kansas</td>\n      <td>earthquake</td>\n      <td>3.5</td>\n      <td>7.1</td>\n      <td>0.039</td>\n      <td>170.0</td>\n      <td>reviewed</td>\n      <td>us</td>\n      <td>us</td>\n    </tr>\n    <tr>\n      <th>1045</th>\n      <td>2021-12-12T01:02:18.409Z</td>\n      <td>38.6813</td>\n      <td>-97.4928</td>\n      <td>5.00</td>\n      <td>2.5</td>\n      <td>mb_lg</td>\n      <td>NaN</td>\n      <td>143.0</td>\n      <td>0.735</td>\n      <td>0.40</td>\n      <td>...</td>\n      <td>2021-12-12T02:29:20.150Z</td>\n      <td>6 km WSW of Gypsum, Kansas</td>\n      <td>earthquake</td>\n      <td>2.2</td>\n      <td>2.0</td>\n      <td>0.132</td>\n      <td>15.0</td>\n      <td>reviewed</td>\n      <td>us</td>\n      <td>us</td>\n    </tr>\n    <tr>\n      <th>1203</th>\n      <td>2021-12-11T11:18:30.864Z</td>\n      <td>38.6839</td>\n      <td>-97.4978</td>\n      <td>5.00</td>\n      <td>2.6</td>\n      <td>mb_lg</td>\n      <td>NaN</td>\n      <td>144.0</td>\n      <td>0.735</td>\n      <td>0.51</td>\n      <td>...</td>\n      <td>2021-12-11T15:01:44.815Z</td>\n      <td>6 km WSW of Gypsum, Kansas</td>\n      <td>earthquake</td>\n      <td>2.4</td>\n      <td>2.0</td>\n      <td>0.361</td>\n      <td>2.0</td>\n      <td>reviewed</td>\n      <td>us</td>\n      <td>us</td>\n    </tr>\n    <tr>\n      <th>1215</th>\n      <td>2021-12-11T10:28:20.150Z</td>\n      <td>38.6948</td>\n      <td>-97.4933</td>\n      <td>2.68</td>\n      <td>3.0</td>\n      <td>mb_lg</td>\n      <td>NaN</td>\n      <td>145.0</td>\n      <td>0.746</td>\n      <td>0.24</td>\n      <td>...</td>\n      <td>2021-12-11T12:36:37.162Z</td>\n      <td>5 km WSW of Gypsum, Kansas</td>\n      <td>earthquake</td>\n      <td>3.1</td>\n      <td>8.1</td>\n      <td>0.132</td>\n      <td>18.0</td>\n      <td>reviewed</td>\n      <td>us</td>\n      <td>us</td>\n    </tr>\n    <tr>\n      <th>1561</th>\n      <td>2021-12-10T01:59:05.450Z</td>\n      <td>38.6432</td>\n      <td>-97.4330</td>\n      <td>5.00</td>\n      <td>2.4</td>\n      <td>mb_lg</td>\n      <td>NaN</td>\n      <td>138.0</td>\n      <td>0.731</td>\n      <td>0.65</td>\n      <td>...</td>\n      <td>2021-12-10T07:47:36.065Z</td>\n      <td>6 km S of Gypsum, Kansas</td>\n      <td>earthquake</td>\n      <td>2.1</td>\n      <td>2.0</td>\n      <td>0.136</td>\n      <td>14.0</td>\n      <td>reviewed</td>\n      <td>us</td>\n      <td>us</td>\n    </tr>\n    <tr>\n      <th>1973</th>\n      <td>2021-12-08T20:25:42.908Z</td>\n      <td>38.6832</td>\n      <td>-97.4868</td>\n      <td>3.85</td>\n      <td>3.1</td>\n      <td>mb_lg</td>\n      <td>NaN</td>\n      <td>143.0</td>\n      <td>0.739</td>\n      <td>0.17</td>\n      <td>...</td>\n      <td>2021-12-15T19:49:08.373Z</td>\n      <td>5 km WSW of Gypsum, Kansas</td>\n      <td>earthquake</td>\n      <td>2.2</td>\n      <td>6.5</td>\n      <td>0.061</td>\n      <td>69.0</td>\n      <td>reviewed</td>\n      <td>us</td>\n      <td>us</td>\n    </tr>\n    <tr>\n      <th>2086</th>\n      <td>2021-12-08T14:21:49.085Z</td>\n      <td>38.6661</td>\n      <td>-97.4763</td>\n      <td>5.00</td>\n      <td>2.6</td>\n      <td>mb_lg</td>\n      <td>NaN</td>\n      <td>99.0</td>\n      <td>0.730</td>\n      <td>0.52</td>\n      <td>...</td>\n      <td>2021-12-10T10:59:43.040Z</td>\n      <td>6 km SW of Gypsum, Kansas</td>\n      <td>earthquake</td>\n      <td>1.6</td>\n      <td>2.0</td>\n      <td>0.132</td>\n      <td>15.0</td>\n      <td>reviewed</td>\n      <td>us</td>\n      <td>us</td>\n    </tr>\n    <tr>\n      <th>2090</th>\n      <td>2021-12-08T13:45:28.473Z</td>\n      <td>38.6552</td>\n      <td>-97.4462</td>\n      <td>3.00</td>\n      <td>4.3</td>\n      <td>mwr</td>\n      <td>NaN</td>\n      <td>68.0</td>\n      <td>0.735</td>\n      <td>0.46</td>\n      <td>...</td>\n      <td>2021-12-15T15:53:36.055Z</td>\n      <td>5 km SSW of Gypsum, Kansas</td>\n      <td>earthquake</td>\n      <td>2.5</td>\n      <td>1.9</td>\n      <td>0.048</td>\n      <td>42.0</td>\n      <td>reviewed</td>\n      <td>us</td>\n      <td>us</td>\n    </tr>\n    <tr>\n      <th>3409</th>\n      <td>2021-12-04T10:32:26.246Z</td>\n      <td>38.7037</td>\n      <td>-97.5874</td>\n      <td>5.00</td>\n      <td>2.5</td>\n      <td>mb_lg</td>\n      <td>NaN</td>\n      <td>148.0</td>\n      <td>0.717</td>\n      <td>0.33</td>\n      <td>...</td>\n      <td>2021-12-04T11:11:31.040Z</td>\n      <td>2 km NNE of Assaria, Kansas</td>\n      <td>earthquake</td>\n      <td>1.4</td>\n      <td>1.9</td>\n      <td>0.208</td>\n      <td>6.0</td>\n      <td>reviewed</td>\n      <td>us</td>\n      <td>us</td>\n    </tr>\n    <tr>\n      <th>8424</th>\n      <td>2021-11-18T14:20:29.570Z</td>\n      <td>38.6996</td>\n      <td>-97.5427</td>\n      <td>1.98</td>\n      <td>2.9</td>\n      <td>mb_lg</td>\n      <td>NaN</td>\n      <td>146.0</td>\n      <td>0.730</td>\n      <td>0.26</td>\n      <td>...</td>\n      <td>2021-12-12T17:43:42.318Z</td>\n      <td>5 km ENE of Assaria, Kansas</td>\n      <td>earthquake</td>\n      <td>2.6</td>\n      <td>5.5</td>\n      <td>0.056</td>\n      <td>82.0</td>\n      <td>reviewed</td>\n      <td>us</td>\n      <td>us</td>\n    </tr>\n    <tr>\n      <th>8585</th>\n      <td>2021-11-18T01:40:05.572Z</td>\n      <td>38.6761</td>\n      <td>-97.4697</td>\n      <td>5.00</td>\n      <td>2.6</td>\n      <td>mb_lg</td>\n      <td>NaN</td>\n      <td>99.0</td>\n      <td>0.741</td>\n      <td>0.68</td>\n      <td>...</td>\n      <td>2021-11-19T02:18:10.040Z</td>\n      <td>4 km SW of Gypsum, Kansas</td>\n      <td>earthquake</td>\n      <td>1.5</td>\n      <td>2.0</td>\n      <td>0.096</td>\n      <td>28.0</td>\n      <td>reviewed</td>\n      <td>us</td>\n      <td>us</td>\n    </tr>\n    <tr>\n      <th>8640</th>\n      <td>2021-11-17T21:43:10.335Z</td>\n      <td>38.6852</td>\n      <td>-97.5026</td>\n      <td>5.00</td>\n      <td>2.9</td>\n      <td>mb_lg</td>\n      <td>NaN</td>\n      <td>141.0</td>\n      <td>0.734</td>\n      <td>0.45</td>\n      <td>...</td>\n      <td>2021-12-08T18:15:01.187Z</td>\n      <td>6 km WSW of Gypsum, Kansas</td>\n      <td>earthquake</td>\n      <td>2.6</td>\n      <td>2.0</td>\n      <td>0.056</td>\n      <td>82.0</td>\n      <td>reviewed</td>\n      <td>us</td>\n      <td>us</td>\n    </tr>\n  </tbody>\n</table>\n<p>17 rows × 22 columns</p>\n</div>"
     },
     "execution_count": 44,
     "metadata": {},
     "output_type": "execute_result"
    }
   ],
   "source": [
    "# radius, km\n",
    "radius = 30\n",
    "\n",
    "df.loc[gcDistpd(centerLat, centerLong, df)<= radius]"
   ],
   "metadata": {
    "collapsed": false,
    "pycharm": {
     "name": "#%%\n"
    }
   }
  },
  {
   "cell_type": "markdown",
   "source": [
    "## Plot"
   ],
   "metadata": {
    "collapsed": false
   }
  },
  {
   "cell_type": "code",
   "execution_count": 63,
   "outputs": [],
   "source": [
    "x = pd.DatetimeIndex(pd.to_datetime(  df.loc[gcDistpd(centerLat, centerLong, df)<= radius]['time'] )).tz_convert(\"US/Central\")"
   ],
   "metadata": {
    "collapsed": false,
    "pycharm": {
     "name": "#%%\n"
    }
   }
  },
  {
   "cell_type": "code",
   "execution_count": 64,
   "outputs": [],
   "source": [
    "y = df.loc[gcDistpd(centerLat, centerLong, df)<= radius]['mag']"
   ],
   "metadata": {
    "collapsed": false,
    "pycharm": {
     "name": "#%%\n"
    }
   }
  },
  {
   "cell_type": "code",
   "execution_count": 65,
   "outputs": [],
   "source": [
    "dates = mdates.date2num(x)"
   ],
   "metadata": {
    "collapsed": false,
    "pycharm": {
     "name": "#%%\n"
    }
   }
  },
  {
   "cell_type": "code",
   "execution_count": 68,
   "outputs": [
    {
     "data": {
      "text/plain": "<Figure size 432x288 with 1 Axes>",
      "image/png": "[encoded data removed]"
     },
     "metadata": {
      "needs_background": "light"
     },
     "output_type": "display_data"
    }
   ],
   "source": [
    "plt.plot_date(dates,y)\n",
    "plt.gcf().autofmt_xdate()"
   ],
   "metadata": {
    "collapsed": false,
    "pycharm": {
     "name": "#%%\n"
    }
   }
  },
  {
   "cell_type": "code",
   "execution_count": null,
   "outputs": [],
   "source": [],
   "metadata": {
    "collapsed": false,
    "pycharm": {
     "name": "#%%\n"
    }
   }
  }
 ],
 "metadata": {
  "kernelspec": {
   "display_name": "Python 3",
   "language": "python",
   "name": "python3"
  },
  "language_info": {
   "codemirror_mode": {
    "name": "ipython",
    "version": 2
   },
   "file_extension": ".py",
   "mimetype": "text/x-python",
   "name": "python",
   "nbconvert_exporter": "python",
   "pygments_lexer": "ipython2",
   "version": "2.7.6"
  }
 },
 "nbformat": 4,
 "nbformat_minor": 0
}